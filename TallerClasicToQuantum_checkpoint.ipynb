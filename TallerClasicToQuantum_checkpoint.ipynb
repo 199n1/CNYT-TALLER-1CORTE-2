{
  "cells": [
    {
      "cell_type": "markdown",
      "id": "1b9eb707-7c83-4f97-ba13-0231912c8306",
      "metadata": {
        "id": "1b9eb707-7c83-4f97-ba13-0231912c8306"
      },
      "source": [
        "# Modelling Classical, probabilistic, and Quantum Systems\n",
        "\n",
        "## Classical Discrete Systems\n",
        "![Deterministic System](images/ClassicPhysicalSystem.png)"
      ]
    },
    {
      "cell_type": "markdown",
      "id": "7aa53935-0e35-48f9-a950-8419d2e10552",
      "metadata": {
        "id": "7aa53935-0e35-48f9-a950-8419d2e10552"
      },
      "source": [
        "\n",
        "\n",
        "Modeling the dynamic behaviors and the state of a classical discrete system using matrices and vectors. The state after one click is computed as follows:\n",
        "\n",
        "$$\n",
        "    \\begin{bmatrix} 0 && 0 && 0 && 0 && 0 && 0 \\\\\n",
        "                   0 && 0 && 0 && 0 && 0 && 0 \\\\\n",
        "                   0 && 1 && 0 && 0 && 0 && 1 \\\\\n",
        "                   0 && 0 && 0 && 1 && 0 && 0 \\\\\n",
        "                   0 && 0 && 1 && 0 && 0 && 0 \\\\\n",
        "                   1 && 0 && 0 && 0 && 1 && 0 \\\\\n",
        "    \\end{bmatrix}\n",
        "    \\begin{bmatrix} 6 \\\\\n",
        "                    2 \\\\\n",
        "                    1 \\\\\n",
        "                    5 \\\\\n",
        "                    3 \\\\\n",
        "                    10 \\\\\n",
        "    \\end{bmatrix}\n",
        "    =\n",
        "    \\begin{bmatrix} 0 \\\\\n",
        "                    0 \\\\\n",
        "                    12 \\\\\n",
        "                    5 \\\\\n",
        "                    1 \\\\\n",
        "                    9 \\\\\n",
        "    \\end{bmatrix}$$"
      ]
    },
    {
      "cell_type": "code",
      "execution_count": 1,
      "id": "36c6338e-7e0a-49a2-b34d-d3c14cadcce9",
      "metadata": {
        "colab": {
          "base_uri": "https://localhost:8080/"
        },
        "id": "36c6338e-7e0a-49a2-b34d-d3c14cadcce9",
        "outputId": "7fbf1f81-188c-40ec-a166-f4d5ec64493b"
      },
      "outputs": [
        {
          "output_type": "stream",
          "name": "stdout",
          "text": [
            "Input:  [[0 0 0 0 0 0]\n",
            " [0 0 0 0 0 0]\n",
            " [0 1 0 0 0 1]\n",
            " [0 0 0 1 0 0]\n",
            " [0 0 1 0 0 0]\n",
            " [1 0 0 0 1 0]] [[ 6]\n",
            " [ 2]\n",
            " [ 1]\n",
            " [ 5]\n",
            " [ 3]\n",
            " [10]]\n",
            "Result after one Click:  [[ 0]\n",
            " [ 0]\n",
            " [12]\n",
            " [ 5]\n",
            " [ 1]\n",
            " [ 9]]\n"
          ]
        }
      ],
      "source": [
        "import numpy as np\n",
        "\n",
        "# Define two 3x3 complex matrices\n",
        "m1 = np.array([[0,0,0,0,0,0],\n",
        "               [0,0,0,0,0,0],\n",
        "               [0,1,0,0,0,1],\n",
        "               [0,0,0,1,0,0],\n",
        "               [0,0,1,0,0,0],\n",
        "               [1,0,0,0,1,0]])\n",
        "\n",
        "v1 = np.array([[6], [2], [1], [5], [3], [10]])\n",
        "\n",
        "\n",
        "print(\"Input: \", m1,v1)\n",
        "\n",
        "# Multiplying a 3x3 matrix by a 3x1 vector\n",
        "state_after_one_click = np.dot(m1, v1)\n",
        "print(\"Result after one Click: \", state_after_one_click)"
      ]
    },
    {
      "cell_type": "markdown",
      "id": "e57c43d2-c915-4e44-96d8-7ffd835a92fc",
      "metadata": {
        "id": "e57c43d2-c915-4e44-96d8-7ffd835a92fc"
      },
      "source": [
        "![State after two clicks.](images/ClassicPhysicalSystem2.png)\n",
        "\n",
        "The state after two cliks is computed as follows:"
      ]
    },
    {
      "cell_type": "code",
      "execution_count": 2,
      "id": "59a3b269-cabf-4b42-a3f5-43556c45c906",
      "metadata": {
        "colab": {
          "base_uri": "https://localhost:8080/"
        },
        "id": "59a3b269-cabf-4b42-a3f5-43556c45c906",
        "outputId": "742006d4-1dec-4e40-b7e8-cd9c41565a69"
      },
      "outputs": [
        {
          "output_type": "stream",
          "name": "stdout",
          "text": [
            "Result after two clicks:  [[ 0]\n",
            " [ 0]\n",
            " [ 9]\n",
            " [ 5]\n",
            " [12]\n",
            " [ 1]]\n"
          ]
        }
      ],
      "source": [
        "print(\"Result after two clicks: \", np.dot(m1,state_after_one_click))"
      ]
    },
    {
      "cell_type": "markdown",
      "id": "3a108f1a-df36-40c5-9104-19b2bca3b0e7",
      "metadata": {
        "id": "3a108f1a-df36-40c5-9104-19b2bca3b0e7"
      },
      "source": [
        "## Exercises\n",
        "\n"
      ]
    },
    {
      "cell_type": "markdown",
      "id": "380d0d61-9d8f-4412-99e0-c46a7dd4c98c",
      "metadata": {
        "id": "380d0d61-9d8f-4412-99e0-c46a7dd4c98c"
      },
      "source": [
        "### Excercise 1:\n",
        "\n",
        "1. Write a program to model the behavior of the probabilistic double slit example depicted in the figure.\n",
        "2. Show the results of the experiment using a bar diagram. Each bar represents the intensity of the light at the specific target.\n",
        "\n",
        "\n",
        "![Probabilistic Double slit.](images/ProbabilisticSystem.png)"
      ]
    },
    {
      "cell_type": "code",
      "source": [
        "import numpy as np\n",
        "\n",
        "# Número de estados\n",
        "n = 6\n",
        "\n",
        "# Matriz de transición determinista (permuta circular)\n",
        "M = np.zeros((n, n), dtype=int)\n",
        "for i in range(n):\n",
        "    M[i, (i+1) % n] = 1\n",
        "\n",
        "print(\"Matriz de transición:\\n\", M)\n",
        "\n",
        "# Estado inicial\n",
        "s0 = np.zeros(n)\n",
        "s0[0] = 1\n",
        "print(\"\\nEstado inicial:\\n\", s0)\n",
        "\n",
        "# Estado después de 1 click\n",
        "s1 = s0 @ M\n",
        "print(\"\\nEstado tras 1 click:\\n\", s1)\n",
        "\n",
        "# Estado después de 2 clicks\n",
        "s2 = s1 @ M\n",
        "print(\"\\nEstado tras 2 clicks:\\n\", s2)\n"
      ],
      "metadata": {
        "colab": {
          "base_uri": "https://localhost:8080/"
        },
        "id": "8eajCSeQo3Zs",
        "outputId": "3933c3db-219b-4c97-c649-272814a1bdad"
      },
      "id": "8eajCSeQo3Zs",
      "execution_count": 3,
      "outputs": [
        {
          "output_type": "stream",
          "name": "stdout",
          "text": [
            "Matriz de transición:\n",
            " [[0 1 0 0 0 0]\n",
            " [0 0 1 0 0 0]\n",
            " [0 0 0 1 0 0]\n",
            " [0 0 0 0 1 0]\n",
            " [0 0 0 0 0 1]\n",
            " [1 0 0 0 0 0]]\n",
            "\n",
            "Estado inicial:\n",
            " [1. 0. 0. 0. 0. 0.]\n",
            "\n",
            "Estado tras 1 click:\n",
            " [0. 1. 0. 0. 0. 0.]\n",
            "\n",
            "Estado tras 2 clicks:\n",
            " [0. 0. 1. 0. 0. 0.]\n"
          ]
        }
      ]
    },
    {
      "cell_type": "markdown",
      "id": "22908e20-9e48-474b-97fa-77c83ae951ca",
      "metadata": {
        "id": "22908e20-9e48-474b-97fa-77c83ae951ca"
      },
      "source": [
        "### Excercise 2:\n",
        "\n",
        "1. Write a program to model the behavior of the quantum double slit example depicted in the figure.\n",
        "2. Show the results of the experiment using a bar diagram. Each bar represents the intensity of the light at the specific target.\n",
        "\n",
        "\n",
        "![Probabilistic Double slit.](images/QuantumSystem.png)"
      ]
    },
    {
      "cell_type": "code",
      "execution_count": 4,
      "id": "6ba5e85d-74f5-4ea7-868a-20c99b5f02c5",
      "metadata": {
        "colab": {
          "base_uri": "https://localhost:8080/"
        },
        "id": "6ba5e85d-74f5-4ea7-868a-20c99b5f02c5",
        "outputId": "34c32c3c-3f99-4225-dedf-c8e23fa8e47c"
      },
      "outputs": [
        {
          "output_type": "stream",
          "name": "stdout",
          "text": [
            "Matriz de transición:\n",
            " [[0.9 0.1]\n",
            " [0.5 0.5]]\n",
            "Suma por filas (debe ser 1): [1. 1.]\n",
            "\n",
            "Estado inicial: [1 0]\n",
            "Después de 1 paso: [0.9 0.1]\n",
            "Después de 2 pasos: [0.86 0.14]\n",
            "Después de 10 pasos: [0.83335081 0.16664919]\n"
          ]
        }
      ],
      "source": [
        "import numpy as np\n",
        "\n",
        "# Matriz de transición (ejemplo válida)\n",
        "P = np.array([[0.9, 0.1],\n",
        "              [0.5, 0.5]])\n",
        "\n",
        "print(\"Matriz de transición:\\n\", P)\n",
        "print(\"Suma por filas (debe ser 1):\", P.sum(axis=1))\n",
        "\n",
        "# Distribución inicial\n",
        "pi0 = np.array([1, 0])\n",
        "\n",
        "# Evolución\n",
        "pi1 = pi0 @ P\n",
        "pi2 = pi1 @ P\n",
        "pi10 = pi0 @ np.linalg.matrix_power(P, 10)\n",
        "\n",
        "print(\"\\nEstado inicial:\", pi0)\n",
        "print(\"Después de 1 paso:\", pi1)\n",
        "print(\"Después de 2 pasos:\", pi2)\n",
        "print(\"Después de 10 pasos:\", pi10)\n"
      ]
    }
  ],
  "metadata": {
    "kernelspec": {
      "display_name": "Python 3 (ipykernel)",
      "language": "python",
      "name": "python3"
    },
    "language_info": {
      "codemirror_mode": {
        "name": "ipython",
        "version": 3
      },
      "file_extension": ".py",
      "mimetype": "text/x-python",
      "name": "python",
      "nbconvert_exporter": "python",
      "pygments_lexer": "ipython3",
      "version": "3.9.1"
    },
    "colab": {
      "provenance": []
    }
  },
  "nbformat": 4,
  "nbformat_minor": 5
}